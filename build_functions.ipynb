{
 "cells": [
  {
   "cell_type": "code",
   "execution_count": 1,
   "metadata": {},
   "outputs": [],
   "source": [
    "import requests"
   ]
  },
  {
   "cell_type": "code",
   "execution_count": null,
   "metadata": {},
   "outputs": [],
   "source": [
    "\"\"\"\n",
    "    Description\n",
    "    -----------\n",
    "    This function takes a github username, repo, and optionally branch and/or token, and returns a connection object to the repo.\n",
    "    Defaults to user \"aaweaver-actuary\" and repo \"SPARTAN\".\n",
    "    Optionally takes a third argument \"branch\" to specify a branch other than master, but defaults to master.\n",
    "    Optionally takes a fourth argument \"token\" to specify a token for authentication, but defaults to None.\n",
    "\n",
    "    Parameters\n",
    "    ----------\n",
    "    username : str\n",
    "        The username of the github account that owns the repo.\n",
    "        Defaults to \"aaweaver-actuary\".\n",
    "    repo : str\n",
    "        The name of the repo.\n",
    "        Defaults to \"SPARTAN\".\n",
    "    branch : str\n",
    "        The name of the branch.\n",
    "        Defaults to \"master\".\n",
    "    token : str\n",
    "        The token for authentication.\n",
    "        Defaults to None.\n",
    "\n",
    "    Returns\n",
    "    -------\n",
    "    requests.models.Response\n",
    "        The connection object to the repo.\n",
    "\n",
    "    Raises\n",
    "    ------\n",
    "    requests.exceptions.HTTPError\n",
    "        If the specified branch does not exist, it returns a 404 error and prints an error message.\n",
    "\n",
    "    Examples\n",
    "    --------\n",
    "    >>> get_repo()  \n",
    "    <Response [200]>\n",
    "    >>> get_repo(\"aaweaver-actuary\", \"SPARTAN\", \"master\", None)\n",
    "    <Response [200]>\n",
    "    >>> get_repo(\"not-a-user\", \"no-repo\")\n",
    "    <Response [404]>\n",
    "\"\"\""
   ]
  },
  {
   "cell_type": "code",
   "execution_count": 2,
   "metadata": {},
   "outputs": [],
   "source": [
    "# function that takes a github username, repo, and optionally branch and/or token, and returns a connection object to the repo\n",
    "# defaults to user \"aaweaver-actuary\" and repo \"SPARTAN\"\n",
    "# optionally takes a third argument \"branch\" to specify a branch other than master, but defaults to master\n",
    "# optionally takes a fourth argument \"token\" to specify a token for authentication, but defaults to None\n",
    "# starts with an extremely detailed docstring that explains the function using sphinx syntax\n",
    "# if the specified branch does not exist, it returns a 404 error and prints an error message\n",
    "# all parameters get type hints and a type annotation for the return value\n",
    "def get_repo(username: str = \"aaweaver-actuary\", repo: str = \"SPARTAN\", branch: str = \"master\", token: str = None) -> requests.models.Response:\n",
    "    \"\"\"\n",
    "    \n",
    "    \"\"\"\n",
    "    # if a token is specified, use it to authenticate\n",
    "    if token:\n",
    "        # use the token to authenticate\n",
    "        r = requests.get(f\"https://api.github.com/repos/{username}/{repo}/branches/{branch}\", auth=(token, \"x-oauth-basic\"))\n",
    "    # otherwise, don't use a token to authenticate\n",
    "    else:\n",
    "        # don't use a token to authenticate\n",
    "        r = requests.get(f\"https://api.github.com/repos/{username}/{repo}/branches/{branch}\")\n",
    "    # if the specified branch does not exist, return a 404 error and print an error message\n",
    "    if r.status_code == 404:\n",
    "        print(\"The specified branch does not exist.\")\n",
    "    # otherwise, return the connection object to the repo\n",
    "    else:\n",
    "        return r\n"
   ]
  },
  {
   "cell_type": "code",
   "execution_count": 4,
   "metadata": {},
   "outputs": [
    {
     "ename": "SyntaxError",
     "evalue": "incomplete input (2832203501.py, line 2)",
     "output_type": "error",
     "traceback": [
      "\u001b[0;36m  Cell \u001b[0;32mIn[4], line 2\u001b[0;36m\u001b[0m\n\u001b[0;31m    def download_repo(response):\u001b[0m\n\u001b[0m                                ^\u001b[0m\n\u001b[0;31mSyntaxError\u001b[0m\u001b[0;31m:\u001b[0m incomplete input\n"
     ]
    }
   ],
   "source": [
    "# function that takes a connection object and downloads the repo\n",
    "def download_repo(response):\n",
    "    # check if the response is ok\n",
    "    if response.status_code == 200:\n",
    "        # get the json data\n",
    "        data = response.json()\n",
    "\n",
    "        # loop through the commits\n",
    "        for commit in data:\n",
    "            # print the commit info\n",
    "            print(commit['commit']['author']['name'])\n",
    "            print(commit['commit']['author']['date'])\n",
    "            print(commit['commit']['message'])\n",
    "            # print a blank line\n",
    "            print()\n",
    "\n",
    "# call the functions\n"
   ]
  }
 ],
 "metadata": {
  "kernelspec": {
   "display_name": "Python 3",
   "language": "python",
   "name": "python3"
  },
  "language_info": {
   "codemirror_mode": {
    "name": "ipython",
    "version": 3
   },
   "file_extension": ".py",
   "mimetype": "text/x-python",
   "name": "python",
   "nbconvert_exporter": "python",
   "pygments_lexer": "ipython3",
   "version": "3.10.4"
  },
  "orig_nbformat": 4,
  "vscode": {
   "interpreter": {
    "hash": "3ad933181bd8a04b432d3370b9dc3b0662ad032c4dfaa4e4f1596c548f763858"
   }
  }
 },
 "nbformat": 4,
 "nbformat_minor": 2
}
